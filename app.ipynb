{
 "cells": [
  {
   "cell_type": "code",
   "execution_count": 4,
   "id": "3663e74a-a45b-4501-8158-10bb7685ba26",
   "metadata": {},
   "outputs": [
    {
     "name": "stderr",
     "output_type": "stream",
     "text": [
      "/opt/anaconda3/lib/python3.12/site-packages/sklearn/base.py:376: InconsistentVersionWarning: Trying to unpickle estimator DecisionTreeClassifier from version 1.4.2 when using version 1.5.2. This might lead to breaking code or invalid results. Use at your own risk. For more info please refer to:\n",
      "https://scikit-learn.org/stable/model_persistence.html#security-maintainability-limitations\n",
      "  warnings.warn(\n",
      "/opt/anaconda3/lib/python3.12/site-packages/sklearn/base.py:376: InconsistentVersionWarning: Trying to unpickle estimator RandomForestClassifier from version 1.4.2 when using version 1.5.2. This might lead to breaking code or invalid results. Use at your own risk. For more info please refer to:\n",
      "https://scikit-learn.org/stable/model_persistence.html#security-maintainability-limitations\n",
      "  warnings.warn(\n",
      "/opt/anaconda3/lib/python3.12/site-packages/sklearn/base.py:376: InconsistentVersionWarning: Trying to unpickle estimator LabelEncoder from version 1.4.2 when using version 1.5.2. This might lead to breaking code or invalid results. Use at your own risk. For more info please refer to:\n",
      "https://scikit-learn.org/stable/model_persistence.html#security-maintainability-limitations\n",
      "  warnings.warn(\n"
     ]
    },
    {
     "name": "stdout",
     "output_type": "stream",
     "text": [
      " * Serving Flask app '__main__'\n",
      " * Debug mode: on\n"
     ]
    }
   ],
   "source": [
    "import pandas as pd\n",
    "import joblib\n",
    "from flask import Flask, render_template, request\n",
    "from threading import Thread\n",
    "\n",
    "# Inisialisasi aplikasi Flask\n",
    "app = Flask(__name__)\n",
    "\n",
    "# Memuat model dan encoder yang telah disimpan\n",
    "loaded_model = joblib.load('best_rf_model_Random_Forest.pkl')\n",
    "label_encoder = joblib.load('label_encoder.pkl')\n",
    "\n",
    "# Membaca data mata kuliah dari file Excel\n",
    "file_path = 'Data MK dan Nilai.xlsx'  # Ganti dengan path file Anda\n",
    "data = pd.read_excel(file_path)\n",
    "\n",
    "# Menyaring hanya kolom 'kode_mk' dan 'nama_mk' dari data\n",
    "mata_kuliah = data[['kode_mk', 'nama_mk']]\n",
    "\n",
    "@app.route('/')\n",
    "def index():\n",
    "    # Mengambil daftar mata kuliah untuk dropdown\n",
    "    mata_kuliah_list = mata_kuliah['nama_mk'].tolist()\n",
    "    return render_template('index.html', mata_kuliah_list=mata_kuliah_list)\n",
    "\n",
    "@app.route('/prediksi', methods=['POST'])\n",
    "def prediksi():\n",
    "    # Mendapatkan nama mata kuliah yang dipilih oleh pengguna\n",
    "    nama_mk_input = request.form['mata_kuliah']\n",
    "    \n",
    "    # Mendapatkan kode_mk terkait nama_mk\n",
    "    kode_mk_input = mata_kuliah[mata_kuliah['nama_mk'] == nama_mk_input]['kode_mk'].values[0]\n",
    "\n",
    "    # Mengencode kode mata kuliah\n",
    "    if kode_mk_input in label_encoder.classes_:\n",
    "        kode_mk_encoded = label_encoder.transform([kode_mk_input])[0]\n",
    "    else:\n",
    "        kode_mk_encoded = int(label_encoder.transform(label_encoder.classes_).mean())\n",
    "        print(f\"Kode mata kuliah '{kode_mk_input}' tidak ditemukan, menggunakan nilai rata-rata untuk prediksi.\")\n",
    "    \n",
    "    # Membuat DataFrame untuk prediksi\n",
    "    new_data = pd.DataFrame({'kode_mk_encoded': [kode_mk_encoded]})\n",
    "\n",
    "    # Melakukan prediksi\n",
    "    prediction = loaded_model.predict(new_data)\n",
    "\n",
    "    # Menampilkan hasil prediksi\n",
    "    result = f\"Klasifikasi tingkat kesulitan untuk kode mata kuliah '{kode_mk_input}': {prediction[0]}\"\n",
    "    return render_template('index.html', result=result, mata_kuliah_list=mata_kuliah['nama_mk'].tolist())\n",
    "\n",
    "# Fungsi untuk menjalankan Flask di dalam thread\n",
    "def run_flask():\n",
    "    app.run(debug=True, host='0.0.0.0', port=2001, use_reloader=False)\n",
    "\n",
    "# Menjalankan Flask di dalam kernel Jupyter\n",
    "flask_thread = Thread(target=run_flask)\n",
    "flask_thread.start()\n"
   ]
  },
  {
   "cell_type": "code",
   "execution_count": null,
   "id": "bf43d577-12a7-42a9-9b27-af19490a73e2",
   "metadata": {},
   "outputs": [],
   "source": []
  }
 ],
 "metadata": {
  "kernelspec": {
   "display_name": "Python 3 (ipykernel)",
   "language": "python",
   "name": "python3"
  },
  "language_info": {
   "codemirror_mode": {
    "name": "ipython",
    "version": 3
   },
   "file_extension": ".py",
   "mimetype": "text/x-python",
   "name": "python",
   "nbconvert_exporter": "python",
   "pygments_lexer": "ipython3",
   "version": "3.12.2"
  }
 },
 "nbformat": 4,
 "nbformat_minor": 5
}
